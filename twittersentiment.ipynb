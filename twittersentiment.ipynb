{
 "cells": [
  {
   "cell_type": "code",
   "execution_count": 106,
   "metadata": {},
   "outputs": [
    {
     "name": "stdout",
     "output_type": "stream",
     "text": [
      "801989080477154944\t#ArianaGrande\t0\t#ArianaGrande Ari By Ariana Grande 80% Full https://t.co/ylhCMETHHW #Singer #Actress https://t.co/lTrb1JQiEA\n",
      "\n",
      "801989272341453952\t#ArianaGrande\t1\tAriana Grande KIIS FM Yours Truly CD listening party in Burbank https://t.co/ClQIcx8Z6V #ArianaGrande\n",
      "\n",
      "801990978424962944\t#ArianaGrande\t1\tAriana Grande White House Easter Egg Roll in Washington https://t.co/jdjL9swWM8 #ArianaGrande\n",
      "\n",
      "801996232553963008\t#ArianaGrande\t1\t#CD #Musics Ariana Grande Sweet Like Candy 3.4 oz 100 ML Sealed In Box 100% Authenic New https://t.co/oFmp0bOvZy… https://t.co/WIHLch9KtK\n",
      "\n",
      "801998343442407040\t#ArianaGrande\t1\tSIDE TO SIDE 😘 @arianagrande #sidetoside #arianagrande #musically #comunidadgay #lgbt🌈  #LOTB… https://t.co/tEd8rftAxV\n",
      "\n"
     ]
    }
   ],
   "source": [
    "import sys\n",
    "import numpy as np\n",
    "import scipy.stats as st\n",
    "import sklearn.linear_model as lm\n",
    "import matplotlib.pyplot as plt\n",
    "%matplotlib inline\n",
    "#np.set_printoptions(threshold=sys.maxsize)\n",
    "\n",
    "f = open(\"./data.txt\").read().splitlines()\n",
    "master_arr = []\n",
    "\n",
    "for i in f[:5]:\n",
    "    for j in i.splitlines():\n",
    "        print(j+'\\n')\n",
    "        #temp = np.array([i], )\n",
    "        #master_arr.append(temp)\n",
    "    \n",
    "#print(master_arr)\n",
    "#nparr=np.array(master_arr)\n",
    "#print(nparr)\n",
    "\n",
    "#nparr = np.ndarray(shape=(4,4), dtype=str)\n",
    "#print(nparr)\n",
    "#a = np.loadtxt(\"./data.txt\", r\"(\\n)\", [('id', 'str'), ('hash', 'str'), ('point', 'str'), ('msg', 'str')])\n",
    "#print(a)\n",
    "\n"
   ]
  },
  {
   "cell_type": "code",
   "execution_count": null,
   "metadata": {},
   "outputs": [],
   "source": []
  }
 ],
 "metadata": {
  "kernelspec": {
   "display_name": "Python 3",
   "language": "python",
   "name": "python3"
  },
  "language_info": {
   "codemirror_mode": {
    "name": "ipython",
    "version": 3
   },
   "file_extension": ".py",
   "mimetype": "text/x-python",
   "name": "python",
   "nbconvert_exporter": "python",
   "pygments_lexer": "ipython3",
   "version": "3.7.3"
  }
 },
 "nbformat": 4,
 "nbformat_minor": 4
}
