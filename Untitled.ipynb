{
 "cells": [
  {
   "cell_type": "code",
   "execution_count": 5,
   "metadata": {},
   "outputs": [
    {
     "name": "stdout",
     "output_type": "stream",
     "text": [
      "   801989080477154944  #ArianaGrande  0  \\\n",
      "0  801989272341453952  #ArianaGrande  1   \n",
      "1  801990978424962944  #ArianaGrande  1   \n",
      "2  801996232553963008  #ArianaGrande  1   \n",
      "3  801998343442407040  #ArianaGrande  1   \n",
      "\n",
      "  #ArianaGrande Ari By Ariana Grande 80% Full https://t.co/ylhCMETHHW #Singer #Actress https://t.co/lTrb1JQiEA  \n",
      "0  Ariana Grande KIIS FM Yours Truly CD listening...                                                            \n",
      "1  Ariana Grande White House Easter Egg Roll in W...                                                            \n",
      "2  #CD #Musics Ariana Grande Sweet Like Candy 3.4...                                                            \n",
      "3  SIDE TO SIDE 😘 @arianagrande #sidetoside #aria...                                                            \n"
     ]
    },
    {
     "data": {
      "text/plain": [
       "'\\nfor i in f:\\n    i = i.split()\\n    temp = np.array(i, dtype=str)\\n    master_arr.append(temp)\\n'"
      ]
     },
     "execution_count": 5,
     "metadata": {},
     "output_type": "execute_result"
    }
   ],
   "source": [
    "import numpy as np\n",
    "import pandas as pd\n",
    "pd.set_option('display.min_rows', 100)\n",
    "\n",
    "f = open(\"./data.txt\").read().splitlines()\n",
    "master_arr = []\n",
    "\n",
    "pdo = pd.read_csv('./data.txt', delimiter=\"\\t\", names=[\"id\", \"hash\", \"c\"])\n",
    "print(pdo)\n",
    "\n",
    "'''\n",
    "for i in f:\n",
    "    i = i.split()\n",
    "    temp = np.array(i, dtype=str)\n",
    "    master_arr.append(temp)\n",
    "'''\n",
    "#np.savetxt('./csvs.csv', master_arr, fmt='%s', delimiter=\"\\t\")\n",
    "#print(master_arr)"
   ]
  },
  {
   "cell_type": "code",
   "execution_count": null,
   "metadata": {},
   "outputs": [],
   "source": []
  }
 ],
 "metadata": {
  "kernelspec": {
   "display_name": "Python 3",
   "language": "python",
   "name": "python3"
  },
  "language_info": {
   "codemirror_mode": {
    "name": "ipython",
    "version": 3
   },
   "file_extension": ".py",
   "mimetype": "text/x-python",
   "name": "python",
   "nbconvert_exporter": "python",
   "pygments_lexer": "ipython3",
   "version": "3.7.3"
  }
 },
 "nbformat": 4,
 "nbformat_minor": 4
}
