{
 "cells": [
  {
   "cell_type": "markdown",
   "metadata": {},
   "source": [
    "# How to build a simple IR System"
   ]
  },
  {
   "cell_type": "markdown",
   "metadata": {},
   "source": [
    "The following tasks have to be accomplished in order to build a simple IR system\n",
    "\n",
    "## Data Collection\n",
    "\n",
    "The NLTK package includes a nice list of documents that can be loaded."
   ]
  },
  {
   "cell_type": "code",
   "execution_count": 1,
   "metadata": {},
   "outputs": [
    {
     "name": "stderr",
     "output_type": "stream",
     "text": [
      "[nltk_data] Downloading package gutenberg to\n",
      "[nltk_data]     /mnt/nvs3/aa465/nltk_data...\n",
      "[nltk_data]   Unzipping corpora/gutenberg.zip.\n",
      "[nltk_data] Downloading package stopwords to\n",
      "[nltk_data]     /mnt/nvs3/aa465/nltk_data...\n",
      "[nltk_data]   Unzipping corpora/stopwords.zip.\n"
     ]
    }
   ],
   "source": [
    "import nltk\n",
    "\n",
    "# download all necessary corpora\n",
    "nltk.download([\"gutenberg\", \"stopwords\"])\n",
    "\n",
    "# get a list of all files in corpus\n",
    "ids = nltk.corpus.gutenberg.fileids()\n",
    "\n",
    "# load all files from gutenberg corpus\n",
    "def load_corpus():\n",
    "    return [nltk.corpus.gutenberg.words(id) for id in ids]"
   ]
  },
  {
   "cell_type": "markdown",
   "metadata": {},
   "source": [
    "## Data Preprocessing\n",
    "In order to provide a common basis for information retrieval, in the following we have to execute some preprocessing steps.\n",
    "\n",
    "### Tokenisation\n",
    "\n",
    "With respect to tokenization, three options are available. \n",
    "1. Use integrated nltk tokens\n",
    "2. Create own simple tokenizer\n",
    "3. Implement tokenizer based on pos tags\n",
    "\n",
    "For the beginning, we just use the integrated tokenizer and use the provided documents as is. \n",
    "\n",
    "### Casefolding\n",
    "\n",
    "Casefolding tries to create a common case for all documents. Basically there are two options:\n",
    "1. tolower() - which simply translates all capital case letters to lower case\n",
    "2. casefold() - which also translates common letters \n"
   ]
  },
  {
   "cell_type": "code",
   "execution_count": 4,
   "metadata": {},
   "outputs": [
    {
     "name": "stdout",
     "output_type": "stream",
     "text": [
      "The result of casefolding is: ['this', 'is', 'a', 'test', 'for', 'casefolding:', 'schloss', 'test', 'exam', 'hallo']\n"
     ]
    }
   ],
   "source": [
    "# casefold each word in file\n",
    "def casefold_file(file):\n",
    "    return [word.casefold() for word in file]\n",
    "\n",
    "# Test if the implementation actually works\n",
    "testfile = \"This is a Test For Casefolding: Schloß\".split()\n",
    "cf_testfile = casefold_file(testfile)\n",
    "print(\"The result of casefolding is:\", cf_testfile)"
   ]
  },
  {
   "cell_type": "code",
   "execution_count": 6,
   "metadata": {},
   "outputs": [],
   "source": [
    "# Iterates all files in a given corpus and runs casefold\n",
    "def casefold_corpus(corpus):\n",
    "    return [casefold_file(file) for file in corpus]"
   ]
  },
  {
   "cell_type": "markdown",
   "metadata": {},
   "source": [
    "## Normalisation\n",
    "\n",
    "Since the corpus still contains a lot of characters that have to meaning, we could now start removing them. Here, we use a regular expression to replace all unnecessary characters. Again, we first define a function for single files, check if it works and then define a functions that applies it to the entire corpus."
   ]
  },
  {
   "cell_type": "code",
   "execution_count": 4,
   "metadata": {},
   "outputs": [
    {
     "name": "stdout",
     "output_type": "stream",
     "text": [
      "The result of cleaning is: ['this', 'is', 'a', 'test', 'sentence']\n"
     ]
    }
   ],
   "source": [
    "import re\n",
    "# regular expression to remove all unnecessary characters\n",
    "characters_to_remove = \"[\\[\\]\\(\\){},.!\\?;:\\-_'\\\"]\"\n",
    "\n",
    "# iterate the file, clean the words and remove empty strings\n",
    "def clean_file(file, removelist):\n",
    "    return [token for token in [re.sub(removelist,'',word) for word in file] \n",
    "            if token != '']\n",
    "\n",
    "# test the implementation \n",
    "testfile = \"! this, is a :;-_!) test sentence\".split()\n",
    "cl_testfile = clean_file(testfile, characters_to_remove)\n",
    "print(\"The result of cleaning is:\", cl_testfile)"
   ]
  },
  {
   "cell_type": "code",
   "execution_count": 5,
   "metadata": {},
   "outputs": [],
   "source": [
    "def clean_corpus(files):\n",
    "    return [clean_file(file,characters_to_remove) for file in files]"
   ]
  },
  {
   "cell_type": "markdown",
   "metadata": {},
   "source": [
    "### Stop word removal\n",
    "\n",
    "In order to reduce the size of the corpus, we can now remove the most common words. For this purpose, we first load the stopwords corpus from the NLTK package and then filter the document by use of this list."
   ]
  },
  {
   "cell_type": "code",
   "execution_count": 6,
   "metadata": {},
   "outputs": [
    {
     "name": "stdout",
     "output_type": "stream",
     "text": [
      "The result of removing stopwords is: ['This', 'test']\n"
     ]
    }
   ],
   "source": [
    "stopwords_en = nltk.corpus.stopwords.words(\"english\")\n",
    "\n",
    "# select only words from the first list which are not in the second list\n",
    "def filter_words(file, wordlist):\n",
    "    result = list(filter(lambda w: not w in wordlist, file))\n",
    "    return result\n",
    "# the previous function can conventionelly be written as follows\n",
    "#def filter_words2(file, wordlist):\n",
    "#    result = []\n",
    "#    for word in file:\n",
    "#        if not word in wordlist:\n",
    "#            result.append(word)\n",
    "#    return result\n",
    "\n",
    "# test implementation\n",
    "testfile = \"This is just a test for about\".split()\n",
    "sw_testfile = filter_words(testfile, stopwords_en)\n",
    "print(\"The result of removing stopwords is:\", sw_testfile)"
   ]
  },
  {
   "cell_type": "code",
   "execution_count": 7,
   "metadata": {},
   "outputs": [],
   "source": [
    "# removes all stop words from the entire corpus\n",
    "def remove_stopwords_corpus(corpus):\n",
    "    return[filter_words(file, stopwords_en) for file in corpus]"
   ]
  },
  {
   "cell_type": "markdown",
   "metadata": {},
   "source": [
    "### Stemming"
   ]
  },
  {
   "cell_type": "code",
   "execution_count": 8,
   "metadata": {},
   "outputs": [
    {
     "name": "stdout",
     "output_type": "stream",
     "text": [
      "Result of the stemming: ['thi', 'is', 'a', 'test', 'sentenc', 'file']\n"
     ]
    }
   ],
   "source": [
    "# use porter's stemmer to stem all tokens in all files\n",
    "ps = nltk.stem.PorterStemmer()\n",
    "\n",
    "# stems all words in a file\n",
    "def stem_file(file):\n",
    "    return [ps.stem(token) for token in file]\n",
    "\n",
    "# test the implementation\n",
    "testfile = \"This is a testing sentence file\".split()\n",
    "st_testfile = stem_file(testfile)\n",
    "print(\"Result of the stemming:\", st_testfile)"
   ]
  },
  {
   "cell_type": "code",
   "execution_count": 9,
   "metadata": {},
   "outputs": [],
   "source": [
    "def stem_corpus(corpus):\n",
    "    return [stem_file(file) for file in corpus]"
   ]
  },
  {
   "cell_type": "markdown",
   "metadata": {},
   "source": [
    "## Prepare the Corpus for IR\n",
    "\n",
    "We now implemented some functions to preprocess the corpus. Let's see how the corpus' statistics changes when these functions are applied."
   ]
  },
  {
   "cell_type": "code",
   "execution_count": 10,
   "metadata": {},
   "outputs": [
    {
     "data": {
      "text/html": [
       "<div>\n",
       "<style scoped>\n",
       "    .dataframe tbody tr th:only-of-type {\n",
       "        vertical-align: middle;\n",
       "    }\n",
       "\n",
       "    .dataframe tbody tr th {\n",
       "        vertical-align: top;\n",
       "    }\n",
       "\n",
       "    .dataframe thead th {\n",
       "        text-align: right;\n",
       "    }\n",
       "</style>\n",
       "<table border=\"1\" class=\"dataframe\">\n",
       "  <thead>\n",
       "    <tr style=\"text-align: right;\">\n",
       "      <th></th>\n",
       "      <th>austen-emma.txt</th>\n",
       "      <th>austen-persuasion.txt</th>\n",
       "      <th>austen-sense.txt</th>\n",
       "      <th>bible-kjv.txt</th>\n",
       "      <th>blake-poems.txt</th>\n",
       "      <th>bryant-stories.txt</th>\n",
       "      <th>burgess-busterbrown.txt</th>\n",
       "      <th>carroll-alice.txt</th>\n",
       "      <th>chesterton-ball.txt</th>\n",
       "      <th>chesterton-brown.txt</th>\n",
       "      <th>chesterton-thursday.txt</th>\n",
       "      <th>edgeworth-parents.txt</th>\n",
       "      <th>melville-moby_dick.txt</th>\n",
       "      <th>milton-paradise.txt</th>\n",
       "      <th>shakespeare-caesar.txt</th>\n",
       "      <th>shakespeare-hamlet.txt</th>\n",
       "      <th>shakespeare-macbeth.txt</th>\n",
       "      <th>whitman-leaves.txt</th>\n",
       "    </tr>\n",
       "  </thead>\n",
       "  <tbody>\n",
       "    <tr>\n",
       "      <td>raw</td>\n",
       "      <td>192427 / 7811</td>\n",
       "      <td>98171 / 6132</td>\n",
       "      <td>141576 / 6833</td>\n",
       "      <td>1010654 / 13769</td>\n",
       "      <td>8354 / 1820</td>\n",
       "      <td>55563 / 4420</td>\n",
       "      <td>18963 / 1764</td>\n",
       "      <td>34110 / 3016</td>\n",
       "      <td>96996 / 8947</td>\n",
       "      <td>86063 / 8299</td>\n",
       "      <td>69213 / 6807</td>\n",
       "      <td>210663 / 9593</td>\n",
       "      <td>260819 / 19317</td>\n",
       "      <td>96825 / 10751</td>\n",
       "      <td>25833 / 3560</td>\n",
       "      <td>37360 / 5447</td>\n",
       "      <td>23140 / 4017</td>\n",
       "      <td>154883 / 14329</td>\n",
       "    </tr>\n",
       "    <tr>\n",
       "      <td>case</td>\n",
       "      <td>192427 / 7344</td>\n",
       "      <td>98171 / 5835</td>\n",
       "      <td>141576 / 6403</td>\n",
       "      <td>1010654 / 12767</td>\n",
       "      <td>8354 / 1535</td>\n",
       "      <td>55563 / 3940</td>\n",
       "      <td>18963 / 1559</td>\n",
       "      <td>34110 / 2636</td>\n",
       "      <td>96996 / 8335</td>\n",
       "      <td>86063 / 7794</td>\n",
       "      <td>69213 / 6349</td>\n",
       "      <td>210663 / 8447</td>\n",
       "      <td>260819 / 17231</td>\n",
       "      <td>96825 / 9021</td>\n",
       "      <td>25833 / 3032</td>\n",
       "      <td>37360 / 4716</td>\n",
       "      <td>23140 / 3464</td>\n",
       "      <td>154883 / 12452</td>\n",
       "    </tr>\n",
       "    <tr>\n",
       "      <td>clean</td>\n",
       "      <td>162095 / 7105</td>\n",
       "      <td>84201 / 5779</td>\n",
       "      <td>120795 / 6339</td>\n",
       "      <td>854046 / 12744</td>\n",
       "      <td>6953 / 1513</td>\n",
       "      <td>46715 / 3838</td>\n",
       "      <td>16359 / 1527</td>\n",
       "      <td>27396 / 2571</td>\n",
       "      <td>82938 / 8246</td>\n",
       "      <td>73355 / 7740</td>\n",
       "      <td>58732 / 6306</td>\n",
       "      <td>170879 / 8345</td>\n",
       "      <td>218668 / 17142</td>\n",
       "      <td>80509 / 8982</td>\n",
       "      <td>20881 / 3020</td>\n",
       "      <td>30296 / 4702</td>\n",
       "      <td>18370 / 3452</td>\n",
       "      <td>126606 / 12406</td>\n",
       "    </tr>\n",
       "    <tr>\n",
       "      <td>stop words</td>\n",
       "      <td>73412 / 6974</td>\n",
       "      <td>38417 / 5646</td>\n",
       "      <td>54048 / 6204</td>\n",
       "      <td>437149 / 12619</td>\n",
       "      <td>3824 / 1403</td>\n",
       "      <td>21790 / 3700</td>\n",
       "      <td>7594 / 1388</td>\n",
       "      <td>12301 / 2425</td>\n",
       "      <td>39937 / 8098</td>\n",
       "      <td>35417 / 7592</td>\n",
       "      <td>28336 / 6165</td>\n",
       "      <td>78273 / 8196</td>\n",
       "      <td>110766 / 16996</td>\n",
       "      <td>45584 / 8856</td>\n",
       "      <td>11135 / 2917</td>\n",
       "      <td>15928 / 4593</td>\n",
       "      <td>10176 / 3345</td>\n",
       "      <td>65410 / 12271</td>\n",
       "    </tr>\n",
       "    <tr>\n",
       "      <td>stemming</td>\n",
       "      <td>73412 / 4377</td>\n",
       "      <td>38417 / 3688</td>\n",
       "      <td>54048 / 3985</td>\n",
       "      <td>437149 / 9418</td>\n",
       "      <td>3824 / 1145</td>\n",
       "      <td>21790 / 2808</td>\n",
       "      <td>7594 / 1126</td>\n",
       "      <td>12301 / 1834</td>\n",
       "      <td>39937 / 5706</td>\n",
       "      <td>35417 / 5435</td>\n",
       "      <td>28336 / 4480</td>\n",
       "      <td>78273 / 5476</td>\n",
       "      <td>110766 / 10716</td>\n",
       "      <td>45584 / 6170</td>\n",
       "      <td>11135 / 2361</td>\n",
       "      <td>15928 / 3653</td>\n",
       "      <td>10176 / 2749</td>\n",
       "      <td>65410 / 8205</td>\n",
       "    </tr>\n",
       "  </tbody>\n",
       "</table>\n",
       "</div>"
      ],
      "text/plain": [
       "           austen-emma.txt austen-persuasion.txt austen-sense.txt  \\\n",
       "raw          192427 / 7811          98171 / 6132    141576 / 6833   \n",
       "case         192427 / 7344          98171 / 5835    141576 / 6403   \n",
       "clean        162095 / 7105          84201 / 5779    120795 / 6339   \n",
       "stop words    73412 / 6974          38417 / 5646     54048 / 6204   \n",
       "stemming      73412 / 4377          38417 / 3688     54048 / 3985   \n",
       "\n",
       "              bible-kjv.txt blake-poems.txt bryant-stories.txt  \\\n",
       "raw         1010654 / 13769     8354 / 1820       55563 / 4420   \n",
       "case        1010654 / 12767     8354 / 1535       55563 / 3940   \n",
       "clean        854046 / 12744     6953 / 1513       46715 / 3838   \n",
       "stop words   437149 / 12619     3824 / 1403       21790 / 3700   \n",
       "stemming      437149 / 9418     3824 / 1145       21790 / 2808   \n",
       "\n",
       "           burgess-busterbrown.txt carroll-alice.txt chesterton-ball.txt  \\\n",
       "raw                   18963 / 1764      34110 / 3016        96996 / 8947   \n",
       "case                  18963 / 1559      34110 / 2636        96996 / 8335   \n",
       "clean                 16359 / 1527      27396 / 2571        82938 / 8246   \n",
       "stop words             7594 / 1388      12301 / 2425        39937 / 8098   \n",
       "stemming               7594 / 1126      12301 / 1834        39937 / 5706   \n",
       "\n",
       "           chesterton-brown.txt chesterton-thursday.txt edgeworth-parents.txt  \\\n",
       "raw                86063 / 8299            69213 / 6807         210663 / 9593   \n",
       "case               86063 / 7794            69213 / 6349         210663 / 8447   \n",
       "clean              73355 / 7740            58732 / 6306         170879 / 8345   \n",
       "stop words         35417 / 7592            28336 / 6165          78273 / 8196   \n",
       "stemming           35417 / 5435            28336 / 4480          78273 / 5476   \n",
       "\n",
       "           melville-moby_dick.txt milton-paradise.txt shakespeare-caesar.txt  \\\n",
       "raw                260819 / 19317       96825 / 10751           25833 / 3560   \n",
       "case               260819 / 17231        96825 / 9021           25833 / 3032   \n",
       "clean              218668 / 17142        80509 / 8982           20881 / 3020   \n",
       "stop words         110766 / 16996        45584 / 8856           11135 / 2917   \n",
       "stemming           110766 / 10716        45584 / 6170           11135 / 2361   \n",
       "\n",
       "           shakespeare-hamlet.txt shakespeare-macbeth.txt whitman-leaves.txt  \n",
       "raw                  37360 / 5447            23140 / 4017     154883 / 14329  \n",
       "case                 37360 / 4716            23140 / 3464     154883 / 12452  \n",
       "clean                30296 / 4702            18370 / 3452     126606 / 12406  \n",
       "stop words           15928 / 4593            10176 / 3345      65410 / 12271  \n",
       "stemming             15928 / 3653            10176 / 2749       65410 / 8205  "
      ]
     },
     "execution_count": 10,
     "metadata": {},
     "output_type": "execute_result"
    }
   ],
   "source": [
    "# We use pandas here as it provides some nice functionality for showing tables\n",
    "import pandas as pd\n",
    "import collections\n",
    "\n",
    "# Functions returns statistics about all files in the corpus\n",
    "def report(corpus):\n",
    "    return [\"%s / %s\" % (len(document), len(collections.Counter(document))) for document in corpus]\n",
    "\n",
    "\n",
    "# Header of the table\n",
    "df = pd.DataFrame(columns=nltk.corpus.gutenberg.fileids())\n",
    "\n",
    "# load the corpus and report number words and unique number of words\n",
    "corpus = load_corpus()\n",
    "df.loc[\"raw\"] = report(corpus)\n",
    "\n",
    "# casefold all words and report statistics\n",
    "corpus = casefold_corpus(corpus)\n",
    "df.loc[\"case\"] = report(corpus)\n",
    "\n",
    "corpus = clean_corpus(corpus)\n",
    "df.loc[\"clean\"] = report(corpus)\n",
    "\n",
    "corpus = remove_stopwords_corpus(corpus)\n",
    "df.loc[\"stop words\"] = report(corpus)\n",
    "\n",
    "corpus = stem_corpus(corpus)\n",
    "df.loc[\"stemming\"] = report(corpus)\n",
    "\n",
    "df"
   ]
  },
  {
   "cell_type": "markdown",
   "metadata": {},
   "source": [
    "## Term-Document Matrix\n",
    "\n",
    "The Term-Document-Matrix allows to store the frequency of each term in each document. "
   ]
  },
  {
   "cell_type": "code",
   "execution_count": 11,
   "metadata": {},
   "outputs": [
    {
     "name": "stdout",
     "output_type": "stream",
     "text": [
      "Information about the entire corpus:\n",
      "Counter({'This': 2, 'is': 2, 'the': 2, 'document': 2, 'first': 1, 'second': 1})\n",
      "Information about each document:\n",
      "[   Counter({'This': 1, 'is': 1, 'the': 1, 'first': 1, 'document': 1}),\n",
      "    Counter({'This': 1, 'is': 1, 'the': 1, 'second': 1, 'document': 1})]\n"
     ]
    }
   ],
   "source": [
    "import collections\n",
    "import pprint\n",
    "\n",
    "def summarize_corpus(corpus):\n",
    "    counters = [collections.Counter(file) for file in corpus]\n",
    "\n",
    "    # create empty counter\n",
    "    counter_tmp = collections.Counter()\n",
    "    \n",
    "    # iterate counter and sum up\n",
    "    for c in counters:\n",
    "        counter_tmp += c\n",
    "    return (counter_tmp, counters)\n",
    "\n",
    "# test the implementation\n",
    "testcorpus = [\"This is the first document\".split(), \"This is the second document\".split()]\n",
    "testcorpus_counter, testcorpus_documents = summarize_corpus(testcorpus)\n",
    "\n",
    "pp = pprint.PrettyPrinter(indent=4)\n",
    "print(\"Information about the entire corpus:\")\n",
    "pp.pprint(testcorpus_counter)\n",
    "print(\"Information about each document:\")\n",
    "pp.pprint(testcorpus_documents)"
   ]
  },
  {
   "cell_type": "code",
   "execution_count": 12,
   "metadata": {},
   "outputs": [
    {
     "name": "stdout",
     "output_type": "stream",
     "text": [
      "The corpus consists of 1089497 tokens and 25823 terms.\n",
      "The dimension of the respective TDM is 18 times 25823\n"
     ]
    }
   ],
   "source": [
    "# Run corpus summary on each document\n",
    "counter_corpus, counters_documents = summarize_corpus(corpus)\n",
    "print(\"The corpus consists of\", sum(counter_corpus.values()), \"tokens and\", len(counter_corpus), \"terms.\")\n",
    "print(\"The dimension of the respective TDM is\", len(corpus), \"times\", len(counter_corpus))"
   ]
  },
  {
   "cell_type": "markdown",
   "metadata": {},
   "source": [
    "### Create the Term-Document Matrix\n",
    "The Term-Document Matrix ist created by first getting the number of unique words among the entire corpus and then collecting the frequencies of those in the respective documents.\n",
    "\n",
    "The function is then applied to the small text corpus."
   ]
  },
  {
   "cell_type": "code",
   "execution_count": 13,
   "metadata": {},
   "outputs": [
    {
     "data": {
      "text/html": [
       "<div>\n",
       "<style scoped>\n",
       "    .dataframe tbody tr th:only-of-type {\n",
       "        vertical-align: middle;\n",
       "    }\n",
       "\n",
       "    .dataframe tbody tr th {\n",
       "        vertical-align: top;\n",
       "    }\n",
       "\n",
       "    .dataframe thead th {\n",
       "        text-align: right;\n",
       "    }\n",
       "</style>\n",
       "<table border=\"1\" class=\"dataframe\">\n",
       "  <thead>\n",
       "    <tr style=\"text-align: right;\">\n",
       "      <th></th>\n",
       "      <th>0</th>\n",
       "      <th>1</th>\n",
       "    </tr>\n",
       "  </thead>\n",
       "  <tbody>\n",
       "    <tr>\n",
       "      <td>This</td>\n",
       "      <td>1.0</td>\n",
       "      <td>1.0</td>\n",
       "    </tr>\n",
       "    <tr>\n",
       "      <td>is</td>\n",
       "      <td>1.0</td>\n",
       "      <td>1.0</td>\n",
       "    </tr>\n",
       "    <tr>\n",
       "      <td>the</td>\n",
       "      <td>1.0</td>\n",
       "      <td>1.0</td>\n",
       "    </tr>\n",
       "    <tr>\n",
       "      <td>first</td>\n",
       "      <td>1.0</td>\n",
       "      <td>0.0</td>\n",
       "    </tr>\n",
       "    <tr>\n",
       "      <td>document</td>\n",
       "      <td>1.0</td>\n",
       "      <td>1.0</td>\n",
       "    </tr>\n",
       "    <tr>\n",
       "      <td>second</td>\n",
       "      <td>0.0</td>\n",
       "      <td>1.0</td>\n",
       "    </tr>\n",
       "  </tbody>\n",
       "</table>\n",
       "</div>"
      ],
      "text/plain": [
       "            0    1\n",
       "This      1.0  1.0\n",
       "is        1.0  1.0\n",
       "the       1.0  1.0\n",
       "first     1.0  0.0\n",
       "document  1.0  1.0\n",
       "second    0.0  1.0"
      ]
     },
     "execution_count": 13,
     "metadata": {},
     "output_type": "execute_result"
    }
   ],
   "source": [
    "import numpy as np\n",
    "\n",
    "# create a Term Document Matrix from the corpus\n",
    "def create_term_document_matrix(corpus):\n",
    "    # get the summary of the corpus\n",
    "    counter_corpus, counter_documents = summarize_corpus(corpus)\n",
    "    \n",
    "    # create an empty matrix with the correct dimension\n",
    "    tdm = np.zeros((len(counter_corpus),len(corpus)))\n",
    "\n",
    "    for idx, word in enumerate(counter_corpus):\n",
    "        for document_id in range(len(corpus)):\n",
    "            if word in counter_documents[document_id]:\n",
    "                tdm[idx,document_id] = counter_documents[document_id][word]\n",
    "    return (tdm,list(counter_corpus.keys()))\n",
    "            \n",
    "# test the implementation\n",
    "test_tdm, test_names = create_term_document_matrix(testcorpus)\n",
    "\n",
    "df = pd.DataFrame(test_tdm, index=test_names)\n",
    "df"
   ]
  },
  {
   "cell_type": "markdown",
   "metadata": {},
   "source": [
    "In the resulting Term-Document Matrix it can be seen which words are contained in with documents. The word _first_ for instance is in _document 0_, only while the word _This_ is in both documents.\n",
    "\n",
    "We now create the matrix for the preprocessed corpus of gutenberg documents. "
   ]
  },
  {
   "cell_type": "code",
   "execution_count": 14,
   "metadata": {},
   "outputs": [
    {
     "data": {
      "text/html": [
       "<div>\n",
       "<style scoped>\n",
       "    .dataframe tbody tr th:only-of-type {\n",
       "        vertical-align: middle;\n",
       "    }\n",
       "\n",
       "    .dataframe tbody tr th {\n",
       "        vertical-align: top;\n",
       "    }\n",
       "\n",
       "    .dataframe thead th {\n",
       "        text-align: right;\n",
       "    }\n",
       "</style>\n",
       "<table border=\"1\" class=\"dataframe\">\n",
       "  <thead>\n",
       "    <tr style=\"text-align: right;\">\n",
       "      <th></th>\n",
       "      <th>austen-emma.txt</th>\n",
       "      <th>austen-persuasion.txt</th>\n",
       "      <th>austen-sense.txt</th>\n",
       "      <th>bible-kjv.txt</th>\n",
       "      <th>blake-poems.txt</th>\n",
       "      <th>bryant-stories.txt</th>\n",
       "      <th>burgess-busterbrown.txt</th>\n",
       "      <th>carroll-alice.txt</th>\n",
       "      <th>chesterton-ball.txt</th>\n",
       "      <th>chesterton-brown.txt</th>\n",
       "      <th>chesterton-thursday.txt</th>\n",
       "      <th>edgeworth-parents.txt</th>\n",
       "      <th>melville-moby_dick.txt</th>\n",
       "      <th>milton-paradise.txt</th>\n",
       "      <th>shakespeare-caesar.txt</th>\n",
       "      <th>shakespeare-hamlet.txt</th>\n",
       "      <th>shakespeare-macbeth.txt</th>\n",
       "      <th>whitman-leaves.txt</th>\n",
       "    </tr>\n",
       "  </thead>\n",
       "  <tbody>\n",
       "    <tr>\n",
       "      <td>emma</td>\n",
       "      <td>865.0</td>\n",
       "      <td>1.0</td>\n",
       "      <td>0.0</td>\n",
       "      <td>0.0</td>\n",
       "      <td>0.0</td>\n",
       "      <td>0.0</td>\n",
       "      <td>0.0</td>\n",
       "      <td>0.0</td>\n",
       "      <td>0.0</td>\n",
       "      <td>0.0</td>\n",
       "      <td>0.0</td>\n",
       "      <td>0.0</td>\n",
       "      <td>0.0</td>\n",
       "      <td>0.0</td>\n",
       "      <td>0.0</td>\n",
       "      <td>0.0</td>\n",
       "      <td>0.0</td>\n",
       "      <td>0.0</td>\n",
       "    </tr>\n",
       "    <tr>\n",
       "      <td>jane</td>\n",
       "      <td>301.0</td>\n",
       "      <td>1.0</td>\n",
       "      <td>1.0</td>\n",
       "      <td>0.0</td>\n",
       "      <td>0.0</td>\n",
       "      <td>0.0</td>\n",
       "      <td>0.0</td>\n",
       "      <td>0.0</td>\n",
       "      <td>0.0</td>\n",
       "      <td>0.0</td>\n",
       "      <td>0.0</td>\n",
       "      <td>0.0</td>\n",
       "      <td>0.0</td>\n",
       "      <td>0.0</td>\n",
       "      <td>0.0</td>\n",
       "      <td>0.0</td>\n",
       "      <td>0.0</td>\n",
       "      <td>0.0</td>\n",
       "    </tr>\n",
       "    <tr>\n",
       "      <td>austen</td>\n",
       "      <td>1.0</td>\n",
       "      <td>1.0</td>\n",
       "      <td>1.0</td>\n",
       "      <td>0.0</td>\n",
       "      <td>0.0</td>\n",
       "      <td>0.0</td>\n",
       "      <td>0.0</td>\n",
       "      <td>0.0</td>\n",
       "      <td>0.0</td>\n",
       "      <td>0.0</td>\n",
       "      <td>0.0</td>\n",
       "      <td>0.0</td>\n",
       "      <td>0.0</td>\n",
       "      <td>0.0</td>\n",
       "      <td>0.0</td>\n",
       "      <td>0.0</td>\n",
       "      <td>0.0</td>\n",
       "      <td>0.0</td>\n",
       "    </tr>\n",
       "    <tr>\n",
       "      <td>1816</td>\n",
       "      <td>1.0</td>\n",
       "      <td>0.0</td>\n",
       "      <td>0.0</td>\n",
       "      <td>0.0</td>\n",
       "      <td>0.0</td>\n",
       "      <td>0.0</td>\n",
       "      <td>0.0</td>\n",
       "      <td>0.0</td>\n",
       "      <td>0.0</td>\n",
       "      <td>0.0</td>\n",
       "      <td>0.0</td>\n",
       "      <td>0.0</td>\n",
       "      <td>0.0</td>\n",
       "      <td>0.0</td>\n",
       "      <td>0.0</td>\n",
       "      <td>0.0</td>\n",
       "      <td>0.0</td>\n",
       "      <td>0.0</td>\n",
       "    </tr>\n",
       "    <tr>\n",
       "      <td>volum</td>\n",
       "      <td>3.0</td>\n",
       "      <td>6.0</td>\n",
       "      <td>3.0</td>\n",
       "      <td>2.0</td>\n",
       "      <td>0.0</td>\n",
       "      <td>0.0</td>\n",
       "      <td>0.0</td>\n",
       "      <td>0.0</td>\n",
       "      <td>1.0</td>\n",
       "      <td>2.0</td>\n",
       "      <td>1.0</td>\n",
       "      <td>1.0</td>\n",
       "      <td>15.0</td>\n",
       "      <td>0.0</td>\n",
       "      <td>2.0</td>\n",
       "      <td>1.0</td>\n",
       "      <td>1.0</td>\n",
       "      <td>3.0</td>\n",
       "    </tr>\n",
       "    <tr>\n",
       "      <td>...</td>\n",
       "      <td>...</td>\n",
       "      <td>...</td>\n",
       "      <td>...</td>\n",
       "      <td>...</td>\n",
       "      <td>...</td>\n",
       "      <td>...</td>\n",
       "      <td>...</td>\n",
       "      <td>...</td>\n",
       "      <td>...</td>\n",
       "      <td>...</td>\n",
       "      <td>...</td>\n",
       "      <td>...</td>\n",
       "      <td>...</td>\n",
       "      <td>...</td>\n",
       "      <td>...</td>\n",
       "      <td>...</td>\n",
       "      <td>...</td>\n",
       "      <td>...</td>\n",
       "    </tr>\n",
       "    <tr>\n",
       "      <td>glum</td>\n",
       "      <td>0.0</td>\n",
       "      <td>0.0</td>\n",
       "      <td>0.0</td>\n",
       "      <td>0.0</td>\n",
       "      <td>0.0</td>\n",
       "      <td>0.0</td>\n",
       "      <td>0.0</td>\n",
       "      <td>0.0</td>\n",
       "      <td>0.0</td>\n",
       "      <td>0.0</td>\n",
       "      <td>0.0</td>\n",
       "      <td>0.0</td>\n",
       "      <td>0.0</td>\n",
       "      <td>0.0</td>\n",
       "      <td>0.0</td>\n",
       "      <td>0.0</td>\n",
       "      <td>0.0</td>\n",
       "      <td>1.0</td>\n",
       "    </tr>\n",
       "    <tr>\n",
       "      <td>demarc</td>\n",
       "      <td>0.0</td>\n",
       "      <td>0.0</td>\n",
       "      <td>0.0</td>\n",
       "      <td>0.0</td>\n",
       "      <td>0.0</td>\n",
       "      <td>0.0</td>\n",
       "      <td>0.0</td>\n",
       "      <td>0.0</td>\n",
       "      <td>0.0</td>\n",
       "      <td>0.0</td>\n",
       "      <td>0.0</td>\n",
       "      <td>0.0</td>\n",
       "      <td>0.0</td>\n",
       "      <td>0.0</td>\n",
       "      <td>0.0</td>\n",
       "      <td>0.0</td>\n",
       "      <td>0.0</td>\n",
       "      <td>1.0</td>\n",
       "    </tr>\n",
       "    <tr>\n",
       "      <td>cumul</td>\n",
       "      <td>0.0</td>\n",
       "      <td>0.0</td>\n",
       "      <td>0.0</td>\n",
       "      <td>0.0</td>\n",
       "      <td>0.0</td>\n",
       "      <td>0.0</td>\n",
       "      <td>0.0</td>\n",
       "      <td>0.0</td>\n",
       "      <td>0.0</td>\n",
       "      <td>0.0</td>\n",
       "      <td>0.0</td>\n",
       "      <td>0.0</td>\n",
       "      <td>0.0</td>\n",
       "      <td>0.0</td>\n",
       "      <td>0.0</td>\n",
       "      <td>0.0</td>\n",
       "      <td>0.0</td>\n",
       "      <td>1.0</td>\n",
       "    </tr>\n",
       "    <tr>\n",
       "      <td>germin</td>\n",
       "      <td>0.0</td>\n",
       "      <td>0.0</td>\n",
       "      <td>0.0</td>\n",
       "      <td>0.0</td>\n",
       "      <td>0.0</td>\n",
       "      <td>0.0</td>\n",
       "      <td>0.0</td>\n",
       "      <td>0.0</td>\n",
       "      <td>0.0</td>\n",
       "      <td>0.0</td>\n",
       "      <td>0.0</td>\n",
       "      <td>0.0</td>\n",
       "      <td>0.0</td>\n",
       "      <td>0.0</td>\n",
       "      <td>0.0</td>\n",
       "      <td>0.0</td>\n",
       "      <td>0.0</td>\n",
       "      <td>1.0</td>\n",
       "    </tr>\n",
       "    <tr>\n",
       "      <td>blither</td>\n",
       "      <td>0.0</td>\n",
       "      <td>0.0</td>\n",
       "      <td>0.0</td>\n",
       "      <td>0.0</td>\n",
       "      <td>0.0</td>\n",
       "      <td>0.0</td>\n",
       "      <td>0.0</td>\n",
       "      <td>0.0</td>\n",
       "      <td>0.0</td>\n",
       "      <td>0.0</td>\n",
       "      <td>0.0</td>\n",
       "      <td>0.0</td>\n",
       "      <td>0.0</td>\n",
       "      <td>0.0</td>\n",
       "      <td>0.0</td>\n",
       "      <td>0.0</td>\n",
       "      <td>0.0</td>\n",
       "      <td>1.0</td>\n",
       "    </tr>\n",
       "  </tbody>\n",
       "</table>\n",
       "<p>25823 rows × 18 columns</p>\n",
       "</div>"
      ],
      "text/plain": [
       "         austen-emma.txt  austen-persuasion.txt  austen-sense.txt  \\\n",
       "emma               865.0                    1.0               0.0   \n",
       "jane               301.0                    1.0               1.0   \n",
       "austen               1.0                    1.0               1.0   \n",
       "1816                 1.0                    0.0               0.0   \n",
       "volum                3.0                    6.0               3.0   \n",
       "...                  ...                    ...               ...   \n",
       "glum                 0.0                    0.0               0.0   \n",
       "demarc               0.0                    0.0               0.0   \n",
       "cumul                0.0                    0.0               0.0   \n",
       "germin               0.0                    0.0               0.0   \n",
       "blither              0.0                    0.0               0.0   \n",
       "\n",
       "         bible-kjv.txt  blake-poems.txt  bryant-stories.txt  \\\n",
       "emma               0.0              0.0                 0.0   \n",
       "jane               0.0              0.0                 0.0   \n",
       "austen             0.0              0.0                 0.0   \n",
       "1816               0.0              0.0                 0.0   \n",
       "volum              2.0              0.0                 0.0   \n",
       "...                ...              ...                 ...   \n",
       "glum               0.0              0.0                 0.0   \n",
       "demarc             0.0              0.0                 0.0   \n",
       "cumul              0.0              0.0                 0.0   \n",
       "germin             0.0              0.0                 0.0   \n",
       "blither            0.0              0.0                 0.0   \n",
       "\n",
       "         burgess-busterbrown.txt  carroll-alice.txt  chesterton-ball.txt  \\\n",
       "emma                         0.0                0.0                  0.0   \n",
       "jane                         0.0                0.0                  0.0   \n",
       "austen                       0.0                0.0                  0.0   \n",
       "1816                         0.0                0.0                  0.0   \n",
       "volum                        0.0                0.0                  1.0   \n",
       "...                          ...                ...                  ...   \n",
       "glum                         0.0                0.0                  0.0   \n",
       "demarc                       0.0                0.0                  0.0   \n",
       "cumul                        0.0                0.0                  0.0   \n",
       "germin                       0.0                0.0                  0.0   \n",
       "blither                      0.0                0.0                  0.0   \n",
       "\n",
       "         chesterton-brown.txt  chesterton-thursday.txt  edgeworth-parents.txt  \\\n",
       "emma                      0.0                      0.0                    0.0   \n",
       "jane                      0.0                      0.0                    0.0   \n",
       "austen                    0.0                      0.0                    0.0   \n",
       "1816                      0.0                      0.0                    0.0   \n",
       "volum                     2.0                      1.0                    1.0   \n",
       "...                       ...                      ...                    ...   \n",
       "glum                      0.0                      0.0                    0.0   \n",
       "demarc                    0.0                      0.0                    0.0   \n",
       "cumul                     0.0                      0.0                    0.0   \n",
       "germin                    0.0                      0.0                    0.0   \n",
       "blither                   0.0                      0.0                    0.0   \n",
       "\n",
       "         melville-moby_dick.txt  milton-paradise.txt  shakespeare-caesar.txt  \\\n",
       "emma                        0.0                  0.0                     0.0   \n",
       "jane                        0.0                  0.0                     0.0   \n",
       "austen                      0.0                  0.0                     0.0   \n",
       "1816                        0.0                  0.0                     0.0   \n",
       "volum                      15.0                  0.0                     2.0   \n",
       "...                         ...                  ...                     ...   \n",
       "glum                        0.0                  0.0                     0.0   \n",
       "demarc                      0.0                  0.0                     0.0   \n",
       "cumul                       0.0                  0.0                     0.0   \n",
       "germin                      0.0                  0.0                     0.0   \n",
       "blither                     0.0                  0.0                     0.0   \n",
       "\n",
       "         shakespeare-hamlet.txt  shakespeare-macbeth.txt  whitman-leaves.txt  \n",
       "emma                        0.0                      0.0                 0.0  \n",
       "jane                        0.0                      0.0                 0.0  \n",
       "austen                      0.0                      0.0                 0.0  \n",
       "1816                        0.0                      0.0                 0.0  \n",
       "volum                       1.0                      1.0                 3.0  \n",
       "...                         ...                      ...                 ...  \n",
       "glum                        0.0                      0.0                 1.0  \n",
       "demarc                      0.0                      0.0                 1.0  \n",
       "cumul                       0.0                      0.0                 1.0  \n",
       "germin                      0.0                      0.0                 1.0  \n",
       "blither                     0.0                      0.0                 1.0  \n",
       "\n",
       "[25823 rows x 18 columns]"
      ]
     },
     "execution_count": 14,
     "metadata": {},
     "output_type": "execute_result"
    }
   ],
   "source": [
    "# create the actual TDM from the corpus\n",
    "tdm, names = create_term_document_matrix(corpus)\n",
    "pd.DataFrame(tdm, index=names, columns=nltk.corpus.gutenberg.fileids())"
   ]
  },
  {
   "cell_type": "markdown",
   "metadata": {},
   "source": [
    "### Querying the Term-Document matrix\n",
    "\n",
    "In order to check whether a document satifies a query or not, the query has to be preprocessed in the same way as we did with the entire corpus. This means we have to execute the follwoing steps:\n",
    "1. casefold each word in the query\n",
    "2. remove unnecessary characters in the query\n",
    "3. remove stop words in the query\n",
    "4. stem the words in the query\n",
    "\n",
    "After the implementation, the query is tested on small test query."
   ]
  },
  {
   "cell_type": "code",
   "execution_count": 15,
   "metadata": {},
   "outputs": [
    {
     "name": "stdout",
     "output_type": "stream",
     "text": [
      "The result of preparing the query: ['queri', 'aim', 'test']\n"
     ]
    }
   ],
   "source": [
    "# we have to prepare the query in the same way as we did for the document\n",
    "def prepare_query(query):\n",
    "    query = casefold_file(query)\n",
    "    query = clean_file(query, characters_to_remove)\n",
    "    query = filter_words(query, stopwords_en)\n",
    "    query = [ps.stem(word) for word in query]\n",
    "    return query\n",
    "\n",
    "# test the method\n",
    "testquery = \"This is a query, which aims a testing\".split()\n",
    "pq_testquery = prepare_query(testquery)\n",
    "print(\"The result of preparing the query:\", pq_testquery)"
   ]
  },
  {
   "cell_type": "markdown",
   "metadata": {},
   "source": [
    "### Query execution\n",
    "To execute the query on the TDM, the score for each document has to be calculated. The score is thereby defined as the sum of the cells for the words of the query. As result, for each document, the number of words from the query which are contained in the document is provided."
   ]
  },
  {
   "cell_type": "code",
   "execution_count": 16,
   "metadata": {},
   "outputs": [
    {
     "name": "stdout",
     "output_type": "stream",
     "text": [
      "Result for query ['second', 'document'] is [1. 2.]\n",
      "Result for query ['second', 'text'] is [0. 1.]\n",
      "Result for query ['unrel', 'text'] is [0. 0.]\n"
     ]
    }
   ],
   "source": [
    "def query_documents(tdm, names, query):\n",
    "    idxs = [names.index(word) for word in query if word in names]\n",
    "    return tdm[idxs].sum(axis=0)\n",
    "\n",
    "# test \n",
    "testquery = prepare_query(\"Second document\".split())\n",
    "result = query_documents(test_tdm, test_names, testquery)\n",
    "print(\"Result for query\", testquery, \"is\", result)\n",
    "\n",
    "testquery2 = prepare_query(\"Second text\".split())\n",
    "result2 = query_documents(test_tdm, test_names, testquery2)\n",
    "print(\"Result for query\", testquery2, \"is\", result2)\n",
    "\n",
    "testquery3 = prepare_query(\"unrelated text\".split())\n",
    "result3 = query_documents(test_tdm, test_names, testquery3)\n",
    "print(\"Result for query\", testquery3, \"is\", result3)"
   ]
  },
  {
   "cell_type": "markdown",
   "metadata": {},
   "source": [
    "The resulting score can easily be plotted by use of barcharts, as the following implementation shows. The implementation is checked on the small test corpus."
   ]
  },
  {
   "cell_type": "code",
   "execution_count": 17,
   "metadata": {},
   "outputs": [
    {
     "data": {
      "text/plain": [
       "<Figure size 640x480 with 1 Axes>"
      ]
     },
     "metadata": {},
     "output_type": "display_data"
    }
   ],
   "source": [
    "#show results in a nice form\n",
    "import matplotlib.pyplot as plt;\n",
    "\n",
    "def show_results(res, document_names=[], query=[]):\n",
    "    if (len(document_names) != len(res)):\n",
    "        document_names = range(len(res))\n",
    "        \n",
    "    plt.bar(range(len(res)), res)\n",
    "    plt.xticks(range(len(res)), document_names, rotation=90)\n",
    "    \n",
    "    plt.title(\"Query:\" + \" \".join(query))\n",
    "    plt.show()\n",
    "\n",
    "show_results(result, [\"First Document\", \"Second Document\"], testquery)"
   ]
  },
  {
   "cell_type": "markdown",
   "metadata": {},
   "source": [
    "Running a query on the entire corpus reveals that Austen's _Emma_ has the highest score, followed by Shakespeares' _Caesar_.\n",
    "The reason is that the document _Emma_ contains the word _Emma_ more than 800 times. The words _Caesar_ and _Brutus_ occur together about 400 times in the document _Caesar_. \n",
    "As a result, the document _Emma_ is twice as relevant as the document _Caesar_ for the given query."
   ]
  },
  {
   "cell_type": "code",
   "execution_count": 18,
   "metadata": {},
   "outputs": [
    {
     "data": {
      "image/png": "[encoded data removed]",
      "text/plain": [
       "<Figure size 432x288 with 1 Axes>"
      ]
     },
     "metadata": {
      "needs_background": "light"
     },
     "output_type": "display_data"
    }
   ],
   "source": [
    "query = [\"Brutus\", \"Caesar\", \"Austen\", \"the\", \"The\", \";\", \"Emma\"]\n",
    "\n",
    "query = prepare_query(query)\n",
    "results_unscaled = query_documents(tdm, names, query)\n",
    "\n",
    "show_results(results_unscaled, nltk.corpus.gutenberg.fileids(), query)"
   ]
  },
  {
   "cell_type": "markdown",
   "metadata": {},
   "source": [
    "This weighting reveals a problem with the term-frequency ranking, as documents where words from query occur twice as often as in other documents result in the double weight. A typical way to change this linear dependency is to use the logarithm. In the following the logarithm is implemented for scaling.\n",
    "Two changes can be observed from the results:\n",
    "1. The scores of both document are much closer to each other \n",
    "2. The score of _Caesar_ is higher than the score of _Emma_\n",
    "\n",
    "This is a direct result of the summation of the logarithmic transformed weights."
   ]
  },
  {
   "cell_type": "markdown",
   "metadata": {},
   "source": [
    "### Adjusting Term-Frequency with logarithm"
   ]
  },
  {
   "cell_type": "code",
   "execution_count": 19,
   "metadata": {},
   "outputs": [
    {
     "data": {
      "image/png": "[encoded data removed]",
      "text/plain": [
       "<Figure size 432x288 with 1 Axes>"
      ]
     },
     "metadata": {
      "needs_background": "light"
     },
     "output_type": "display_data"
    }
   ],
   "source": [
    "def scale_tf(m):\n",
    "    return np.log1p(m)\n",
    "\n",
    "tdm_tf = scale_tf(tdm)\n",
    "#tdm_tf = np.log(test_tdm)\n",
    "res_tf = query_documents(tdm_tf, names, query)\n",
    "\n",
    "show_results(res_tf, nltk.corpus.gutenberg.fileids(), query)"
   ]
  },
  {
   "cell_type": "markdown",
   "metadata": {},
   "source": [
    "## Further Adjustments with Inverse-Document-Frequency\n",
    "\n",
    "As discussed elsewhere, term-frequency weighting has some negative effects if for words that occur often in the entire corpus. One approach to compensate for this behaviour is to use the the inverse document frequency.\n",
    "\n",
    "The following implementation takes an unscaled TDM and applies the tf-idf scaling on the matrix."
   ]
  },
  {
   "cell_type": "code",
   "execution_count": 20,
   "metadata": {},
   "outputs": [
    {
     "data": {
      "image/png": "[encoded data removed]",
      "text/plain": [
       "<Figure size 432x288 with 1 Axes>"
      ]
     },
     "metadata": {
      "needs_background": "light"
     },
     "output_type": "display_data"
    }
   ],
   "source": [
    "def scale_tfidf(m):\n",
    "    m = scale_tf(m)\n",
    "    tmp = m!=0\n",
    "    num_documents = m.shape[1]\n",
    "    \n",
    "    idf = np.log(num_documents/m.sum(axis=1))\n",
    "    return (m.T * idf).T\n",
    "\n",
    "# test implementation\n",
    "test_tdm_tfidf = scale_tfidf(test_tdm)\n",
    "r = query_documents(test_tdm_tfidf, test_names, testquery)\n",
    "show_results(r, query=testquery, document_names=[\"First document\", \"Second document\"])"
   ]
  },
  {
   "cell_type": "markdown",
   "metadata": {},
   "source": [
    "Applying the TF-IDF weighting to the corpus shows again that the document _Emma_ is slightly more relevant as the document _Caesar_. The reason is that the words _Caesar_ and _Brutus_ appear more often in the corpus than the word _Emma_."
   ]
  },
  {
   "cell_type": "code",
   "execution_count": 21,
   "metadata": {},
   "outputs": [
    {
     "data": {
      "image/png": "[encoded data removed]",
      "text/plain": [
       "<Figure size 432x288 with 1 Axes>"
      ]
     },
     "metadata": {
      "needs_background": "light"
     },
     "output_type": "display_data"
    }
   ],
   "source": [
    "# scale Term-document matrix\n",
    "tdm_tfidf = scale_tfidf(tdm)\n",
    "results_tfidf = query_documents(tdm_tfidf, names, query)\n",
    "show_results(results_tfidf, query=query, document_names=nltk.corpus.gutenberg.fileids())"
   ]
  }
 ],
 "metadata": {
  "kernelspec": {
   "display_name": "Python 3",
   "language": "python",
   "name": "python3"
  },
  "language_info": {
   "codemirror_mode": {
    "name": "ipython",
    "version": 3
   },
   "file_extension": ".py",
   "mimetype": "text/x-python",
   "name": "python",
   "nbconvert_exporter": "python",
   "pygments_lexer": "ipython3",
   "version": "3.7.3"
  },
  "latex_envs": {
   "LaTeX_envs_menu_present": true,
   "autoclose": false,
   "autocomplete": true,
   "bibliofile": "biblio.bib",
   "cite_by": "apalike",
   "current_citInitial": 1,
   "eqLabelWithNumbers": true,
   "eqNumInitial": 1,
   "hotkeys": {
    "equation": "Ctrl-E",
    "itemize": "Ctrl-I"
   },
   "labels_anchors": false,
   "latex_user_defs": false,
   "report_style_numbering": false,
   "user_envs_cfg": false
  }
 },
 "nbformat": 4,
 "nbformat_minor": 4
}
